{
  "cells": [
    {
      "cell_type": "markdown",
      "metadata": {
        "id": "0pc-vaftMTxU"
      },
      "source": [
        "# [![](https://img.shields.io/badge/Thiết%20kế-stablediffusion.vn-0075ff)](https://stablediffusion.vn) [![](https://img.shields.io/badge/Phiên%20bản-v3-0075ff)](https://stablediffusion.vn) [![](https://img.shields.io/badge/Legacy-Version-ff0000)](https://bit.ly/sdvndreamboot) [![](https://img.shields.io/badge/Group-Support-0075ff)](https://www.facebook.com/groups/stablediffusion.vn) [![](https://img.shields.io/badge/Bộ%20công%20cụ-Đầy%20đủ-0075ff)](https://stablediffusion.vn/bo-cong-cu/) [![](https://img.shields.io/discord/813085864355037235?color=blue&label=Discord&logo=Discord)](https://discord.gg/5SEtApPeyG) [![](https://img.shields.io/badge/Kohya%20Setting-Wiki-Blue)](https://github.com/bmaltais/kohya_ss/wiki/LoRA-training-parameters) [![](https://img.shields.io/badge/Khoá%20học-SD-red)](https://hungdiffusion.com/)\n",
        "\n",
        "---\n",
        "# 💡 Hướng dẫn sử dụng :\n",
        "\n",
        "\n",
        " - B1 : Chuẩn bị thư mục ảnh mẫu kèm caption để train theo đúng kích thước, tải lên drive, có thể phân chia thư mục con\n",
        " - B2 : Chạy phần 1\n",
        " - B3 : Chỉnh các thông số train tại phần 2\n",
        " - B4 : Chạy mục 3 và theo dõi kết quả train\n",
        " ---\n",
        "\n",
        " 🔻 : Lưu ý quan trọng thay đổi theo mỗi lần train\n",
        "\n",
        " 🔸 : Giá trị tham khảo, có thể để mặc định\n"
      ]
    },
    {
      "cell_type": "markdown",
      "metadata": {
        "id": "IPT0DeMD761Z"
      },
      "source": [
        "# 🔌 1. Cài đặt nền"
      ]
    },
    {
      "cell_type": "code",
      "execution_count": null,
      "metadata": {
        "cellView": "form",
        "id": "OKPLNy721RWN"
      },
      "outputs": [],
      "source": [
        "# @title Install\n",
        "from google.colab import drive\n",
        "drive.mount('/content/drive')\n",
        "#@markdown `Nếu xuất hiện lỗi xung đột thư viện, khởi động lại phiên và chạy lại từ đầu để update lại thư viện mới cài đặt`\n",
        "#root_dir\n",
        "root_dir = \"/content\"\n",
        "repo_dir = f\"{root_dir}/Kohya-Colab\"\n",
        "training_dir = f\"{root_dir}/Train_Config\"\n",
        "pretrained_model = f\"{root_dir}/Train_model\"\n",
        "config_dir = f\"{training_dir}/Config\"\n",
        "#repo_dir\n",
        "accelerate_config = f\"{repo_dir}/accelerate_config/config.yaml\"\n",
        "tools_dir = f\"{repo_dir}/tools\"\n",
        "finetune_dir = f\"{repo_dir}/finetune\"\n",
        "\n",
        "!git clone https://github.com/mesmerwolfies/SDVN-kohya-colab-sd15 {repo_dir}\n",
        "\n",
        "%run {repo_dir}/TrainScript.ipynb\n",
        "\n",
        "install_sd15train()"
      ]
    },
    {
      "cell_type": "markdown",
      "metadata": {
        "id": "9G1MMaij5sBz"
      },
      "source": [
        "# ⚙️ 2. Cài đặt Train"
      ]
    },
    {
      "cell_type": "code",
      "execution_count": null,
      "metadata": {
        "cellView": "form",
        "id": "WIStEcFBWBLC"
      },
      "outputs": [],
      "source": [
        "#@markdown <br>💡 `Có thể bỏ trống RegFolder`\n",
        "TrainFolder = \"/content/drive/MyDrive/SD-Data/TrainData/\"  # @param {type:'string'}\n",
        "RegFolder = \"\"  # @param {type:'string'}\n",
        "Project_name = \"MW_\" #@param {type:\"string\",placeholder:\"Nhập tên output\"}\n",
        "Output_Path = \"/content/drive/MyDrive/SD-Data\" #@param {'type':'string'}\n",
        "\n",
        "#@markdown <br>💡 `Dán link tải hoặc link đường dẫn drive để sử dụng model bất kỳ để train`\n",
        "Model_Train = \"/content/drive/MyDrive/SD-Data/Model/MW_AsianBabes_v10.safetensors\"  #@param [\"\", \"StableDiffusion_v15.ckpt\", \"Chilloutmix\", \"RealisticVision51\", \"PhotographyProv8\", \"Deliberate\", \"DreamShaperv8\", \"A-ZovyaRPGv3\", \"HenmixRealv4\", \"Fantasticv65\", \"XXMix_9realisticv3\", \"MajicmixRealv6\", \"ReVAnimatedv122\", \"RunDiffusionFXv1\", \"BeautifulRealAsiansv6\", \"LEOSAM-MoonFilm-v2\",\"Counterfeit\", \"OrientalMix\", \"FishMix\", \"ThreeDelicacyv2\", \"GODofSIMP\", \"TheoldfishSpread\", \"Theoldfish\", \"NightSkyYOZORA\", \"GhostMixv2\", \"ToonYou-beta6\", \"ComicsArthemyv3\", \"MeinaMix-v11\", \"ManmaruMix-v2\"] {allow-input: true}\n",
        "Resume_Path = \"\" # @param {type:'string',placeholder:\"Nhập tên đường dẫn thư mục State nếu muốn train tiếp từ backup\"}\n",
        "LoRA_Network_Weights = \"\" # @param {'type':'string',placeholder:\"Nhập đường dẫn lora, nếu muốn train tiếp vào lora bất kỳ\"}\n",
        "Save_State = False #@param {type:\"boolean\"}\n",
        "Resolution = \"512\"  # @param [512,768,1024]\n",
        "\n",
        "#@markdown <br>💡 `Trường hợp train với SubFolder, đặt tên thư mục sub theo cú pháp \" {repeat}_{name}\" để đặt repeat cho từng thư mục`\n",
        "Repeats = 15  # @param {type:\"number\"}\n",
        "Epochs = 6  # @param {type:\"number\"}\n",
        "Save_Every_N_Epochs = 1  # @param {type:\"number\"}\n",
        "\n",
        "#@markdown <br> 💡 `Sử dụng card T4, Batch size tối đa tới size 512 là 6, với size 768 là 3`\n",
        "Batch_size = 1  # @param {type:\"number\"}\n",
        "Learning_Rate = 1e-4  # @param {'type':'number'}\n",
        "Unet_Lr = 1e-4  # @param {'type':'number'}\n",
        "Text_encoder_Lr = 5e-5  # @param {'type':'number'}\n",
        "\n",
        "Network_dim = \"128\"  # @param [4,8,16,32,64,128]\n",
        "Network_alpha = \"64\" # @param [4,8,16,32,64,128]\n",
        "\n",
        "Lr_scheduler = \"cosine_with_restarts\"  # @param [\"linear\", \"cosine\", \"cosine_with_restarts\", \"polynomial\", \"constant\", \"constant_with_warmup\", \"adafactor\"] {allow-input: false}\n",
        "Optimizer_type = \"AdamW8bit\"  # @param [\"AdamW\", \"AdamW8bit\", \"Lion\", \"SGDNesterov\", \"SGDNesterov8bit\", \"DAdaptation\", \"AdaFactor\"]\n",
        "Optimizer_args = \"weight_decay=0.1, betas=[0.9,0.99]\" # @param {'type':'string'}\n",
        "Comment = \"Creator by Mesmer Wolfies\" # @param {'type':'string'}\n",
        "#@markdown <br>💡 `Multires noise là một kỹ thuật giúp cải thiện chất lượng ảnh bằng cách thêm nhiễu vào các tầng khác nhau của mạng nơ-ron`\n",
        "\n",
        "Noise_offset = 0  #@param {type:\"slider\", min:0.0, max:1.0, step:0.1}\n",
        "Multires_noise_iterations = 0 #@param {type:\"slider\", min:0.0, max:1.0, step:0.1}\n",
        "Multires_noise_discount = 0.3 #@param {type:\"slider\", min:0.0, max:1.0, step:0.1}\n",
        "\n",
        "#@markdown <br>💡 `Min SNR gamma là một tham số điều chỉnh độ tương phản của ảnh`\n",
        "Min_snr_gamma = True #@param {type:\"boolean\"}\n",
        "\n",
        "Caption_extension = \".txt\" #param {type:\"string\"}\n",
        "\n",
        "#@markdown <br>💡 `Shuffle caption là xáo trộn caption của ảnh, nếu không muốn xáo trộn thì để False. Keep tokens là số lượng token giữ lại trong caption, nếu không muốn giữ lại thì để 0.`\n",
        "Shuffle_caption = True #@param {type:\"boolean\"}\n",
        "Keep_tokens = 3 #@param {type:\"number\"}\n",
        "\n",
        "#@markdown <br>💡 `Prompt là prompt mặc định cho sample`\n",
        "Prompt = \"(masterpiece, best quality, photorealistic:1.2), detailed skin textures, detailed face, raw photo, 8k HDR, bright realistic lighting, 1girl, solo, looking at viewer, (upper body:1.4), office lady, collared shirt, necktie\" # @param {'type':'string'}\n",
        "\n",
        "\n",
        "output_name = Project_name if Project_name != \"\" else \"project_name\"\n",
        "resume = Resume_Path\n",
        "save_state = Save_State\n",
        "optimizer_type = Optimizer_type\n",
        "save_every_n_epochs = Save_Every_N_Epochs\n",
        "training_comment = Comment\n",
        "dataset_repeats = Repeats\n",
        "train_batch_size = Batch_size\n",
        "network_weights = LoRA_Network_Weights\n",
        "network_dim = int(Network_dim)\n",
        "network_alpha = int(Network_alpha)\n",
        "learning_rate = Learning_Rate\n",
        "text_encoder_lr = Text_encoder_Lr\n",
        "unet_lr = Unet_Lr\n",
        "max_train_epochs = Epochs\n",
        "lr_scheduler = Lr_scheduler\n",
        "lr_scheduler_power = 1 if Lr_scheduler == \"polynomial\" else None\n",
        "lr_warmup_steps = 100 if Lr_scheduler == \"constant_with_warmup\" else None\n",
        "lr_scheduler_num_cycles = 2 if Lr_scheduler == \"cosine_with_restarts\" else None\n",
        "splitter = \", \" if \", \" in Optimizer_args else \",\"\n",
        "optimizer_args = [a.strip() for a in Optimizer_args.split(splitter) if a]\n",
        "noise_offset = Noise_offset\n",
        "multires_noise_iterations = Multires_noise_iterations\n",
        "multires_noise_discount = Multires_noise_discount\n",
        "min_snr_gamma = 5.0 if Min_snr_gamma else None\n",
        "seed = 1102\n",
        "output_dir = f'{Output_Path}/Lora'\n",
        "\n",
        "\n",
        "vae_link = \"https://huggingface.co/stabilityai/sd-vae-ft-mse-original/resolve/main/vae-ft-mse-840000-ema-pruned.ckpt\"\n",
        "vae_name = \"vae.ckpt\"\n",
        "aria_down(vae_link,pretrained_model,vae_name)\n",
        "vae = f\"{pretrained_model}/{vae_name}\"\n",
        "\n",
        "file_path = f'{repo_dir}/model_lib.json'\n",
        "with open(file_path, 'r') as json_file:\n",
        "    modellist = json.load(json_file)\n",
        "\n",
        "pretrained_model_name_or_path = download_lib(Model_Train,modellist,pretrained_model)\n",
        "\n",
        "sample_prompt = f\"{config_dir}/sample_prompt.txt\"\n",
        "config_file = f\"{config_dir}/config_file.toml\"\n",
        "dataset_config = f\"{config_dir}/dataset_config.toml\"\n",
        "\n",
        "default_config_lora = f\"{repo_dir}/config/default_config_lora.json\"\n",
        "final_config(default_config_lora,config_file)\n",
        "\n",
        "subsets = get_subsets(TrainFolder,RegFolder)\n",
        "\n",
        "config = {\n",
        "    \"general\": {\n",
        "        \"resolution\": int(Resolution),\n",
        "        \"shuffle_caption\": Shuffle_caption,\n",
        "        \"keep_tokens\": Keep_tokens,\n",
        "        \"flip_aug\": False,\n",
        "        \"caption_extension\": Caption_extension,\n",
        "        \"enable_bucket\": True,\n",
        "        \"bucket_reso_steps\": 64,\n",
        "        \"bucket_no_upscale\": False,\n",
        "        \"min_bucket_reso\": 320 if int(Resolution) > 640 else 256,\n",
        "        \"max_bucket_reso\": 1280 if int(Resolution) > 640 else 1024,\n",
        "    },\n",
        "    \"datasets\": [\n",
        "        {\n",
        "            \"caption_dropout_rate\": 0,\n",
        "            \"caption_tag_dropout_rate\": 0,\n",
        "            \"caption_dropout_every_n_epochs\": 0,\n",
        "            \"color_aug\": False,\n",
        "            \"face_crop_aug_range\": None,\n",
        "            \"subsets\": subsets,\n",
        "        }\n",
        "    ],\n",
        "}\n",
        "\n",
        "config_str = toml.dumps(config)\n",
        "write_file(dataset_config, config_str)\n",
        "\n",
        "default_prompt = f\"{Prompt} --n (worst quality:2), (low quality:2), (normal quality:2), (watermark:1.4), ((monochrome)), ((grayscale)), jpeg artifacts, makeup, mole, freckles, lowres, bad hands, deformed hands, bad anatomy, disfigured, ugly, poorly drawn face --w 512 --h 768 --l 8 --s 30\"\n",
        "write_file(sample_prompt,default_prompt)\n",
        "\n",
        "print(\"Done\")"
      ]
    },
    {
      "cell_type": "markdown",
      "metadata": {
        "id": "IXQ27FCL5tfd"
      },
      "source": [
        "# ⏳ 4.Train"
      ]
    },
    {
      "cell_type": "code",
      "execution_count": null,
      "metadata": {
        "id": "EJu4b9hqWBLD",
        "cellView": "form"
      },
      "outputs": [],
      "source": [
        "#@markdown #▶️ Theo dõi quá trình và kiểm soát chất lượng\n",
        "#@markdown *Kiểm tra sample tại ```{Output_Path}/sample```*\n",
        "#@markdown <br>*Có thể dừng bất cứ khi nào sample thấy ưng ý*\n",
        "AutoDisconect = False #@param {type:\"boolean\"}\n",
        "%cd {repo_dir}\n",
        "\n",
        "train_file = \"train_network.py\"\n",
        "\n",
        "accelerate_conf = {\n",
        "    \"config_file\" : accelerate_config,\n",
        "    \"num_cpu_threads_per_process\" : 1,\n",
        "}\n",
        "\n",
        "train_conf = {\n",
        "    \"sample_prompts\" : sample_prompt,\n",
        "    \"dataset_config\" : dataset_config,\n",
        "    \"config_file\" : config_file\n",
        "}\n",
        "\n",
        "accelerate_args = join_arg(accelerate_conf)\n",
        "train_args = join_arg(train_conf)\n",
        "final_args = f\"accelerate launch {accelerate_args} {train_file} {train_args}\"\n",
        "print(final_args)\n",
        "!{final_args}\n",
        "\n",
        "if AutoDisconect:\n",
        "    from time import sleep\n",
        "    sleep(180)\n",
        "    from google.colab import runtime\n",
        "    runtime.unassign()"
      ]
    }
  ],
  "metadata": {
    "accelerator": "GPU",
    "colab": {
      "collapsed_sections": [
        "0pc-vaftMTxU",
        "IPT0DeMD761Z"
      ],
      "gpuType": "T4",
      "machine_shape": "hm",
      "private_outputs": true,
      "provenance": []
    },
    "kernelspec": {
      "display_name": "Python 3",
      "name": "python3"
    },
    "language_info": {
      "codemirror_mode": {
        "name": "ipython",
        "version": 3
      },
      "file_extension": ".py",
      "mimetype": "text/x-python",
      "name": "python",
      "nbconvert_exporter": "python",
      "pygments_lexer": "ipython3",
      "version": "3.11.9"
    }
  },
  "nbformat": 4,
  "nbformat_minor": 0
}